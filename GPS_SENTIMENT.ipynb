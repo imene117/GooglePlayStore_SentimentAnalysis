{
 "cells": [
  {
   "cell_type": "code",
   "execution_count": 1,
   "id": "083e2fbd-f5ba-464e-a749-e72ec9a235d3",
   "metadata": {},
   "outputs": [
    {
     "name": "stderr",
     "output_type": "stream",
     "text": [
      "<frozen importlib._bootstrap>:228: RuntimeWarning: scipy._lib.messagestream.MessageStream size changed, may indicate binary incompatibility. Expected 56 from C header, got 64 from PyObject\n"
     ]
    },
    {
     "name": "stdout",
     "output_type": "stream",
     "text": [
      "Done\n"
     ]
    }
   ],
   "source": [
    "import re\n",
    "import matplotlib.pyplot as plt\n",
    "import string\n",
    "from nltk.corpus import stopwords\n",
    "import nltk\n",
    "from nltk.corpus import wordnet\n",
    "from nltk.stem import WordNetLemmatizer\n",
    "from nltk.tokenize.treebank import TreebankWordDetokenizer\n",
    "from collections import Counter\n",
    "from wordcloud import WordCloud\n",
    "from nltk.corpus import stopwords\n",
    "import nltk\n",
    "from gensim.utils import simple_preprocess\n",
    "from nltk.corpus import stopwords\n",
    "import gensim\n",
    "from sklearn.model_selection import train_test_split\n",
    "import spacy\n",
    "import pickle\n",
    "import warnings\n",
    "warnings.filterwarnings('ignore')\n",
    "import seaborn as sns\n",
    "from sklearn.metrics import confusion_matrix\n",
    "import matplotlib.pyplot as plt \n",
    "import tensorflow as tf\n",
    "import keras\n",
    "import numpy as np\n",
    "import pandas as pd\n",
    "print('Done')"
   ]
  },
  {
   "cell_type": "markdown",
   "id": "a195001e-c4d7-44de-8f82-8a15c0a3d46b",
   "metadata": {},
   "source": [
    "This project is based on Google play store data available in https://www.kaggle.com/datasets/lava18/google-play-store-apps, 10k Play Store apps for analysing the Android market.\n",
    "\n",
    "After reviews processing, we'll train 2 deep learning models with diffrent architectures.\n",
    "\n",
    "**For the statistical study please check GooglePlayStore_Analysis study on my Github**"
   ]
  },
  {
   "cell_type": "code",
   "execution_count": 2,
   "id": "10d9d955-afa9-4db0-8af7-a264d08189af",
   "metadata": {},
   "outputs": [
    {
     "data": {
      "text/plain": [
       "(64295, 5)"
      ]
     },
     "execution_count": 2,
     "metadata": {},
     "output_type": "execute_result"
    }
   ],
   "source": [
    "gps_rev = pd.read_csv('googleplaystore_user_reviews.csv')\n",
    "gps_rev.shape\n"
   ]
  },
  {
   "cell_type": "code",
   "execution_count": 3,
   "id": "d5c7ff2f-2e54-459f-923e-50b6523f41d8",
   "metadata": {},
   "outputs": [
    {
     "data": {
      "text/html": [
       "<div>\n",
       "<style scoped>\n",
       "    .dataframe tbody tr th:only-of-type {\n",
       "        vertical-align: middle;\n",
       "    }\n",
       "\n",
       "    .dataframe tbody tr th {\n",
       "        vertical-align: top;\n",
       "    }\n",
       "\n",
       "    .dataframe thead th {\n",
       "        text-align: right;\n",
       "    }\n",
       "</style>\n",
       "<table border=\"1\" class=\"dataframe\">\n",
       "  <thead>\n",
       "    <tr style=\"text-align: right;\">\n",
       "      <th></th>\n",
       "      <th>App</th>\n",
       "      <th>Translated_Review</th>\n",
       "      <th>Sentiment</th>\n",
       "      <th>Sentiment_Polarity</th>\n",
       "      <th>Sentiment_Subjectivity</th>\n",
       "    </tr>\n",
       "  </thead>\n",
       "  <tbody>\n",
       "    <tr>\n",
       "      <th>0</th>\n",
       "      <td>10 Best Foods for You</td>\n",
       "      <td>I like eat delicious food. That's I'm cooking ...</td>\n",
       "      <td>Positive</td>\n",
       "      <td>1.00</td>\n",
       "      <td>0.533333</td>\n",
       "    </tr>\n",
       "    <tr>\n",
       "      <th>1</th>\n",
       "      <td>10 Best Foods for You</td>\n",
       "      <td>This help eating healthy exercise regular basis</td>\n",
       "      <td>Positive</td>\n",
       "      <td>0.25</td>\n",
       "      <td>0.288462</td>\n",
       "    </tr>\n",
       "    <tr>\n",
       "      <th>2</th>\n",
       "      <td>10 Best Foods for You</td>\n",
       "      <td>NaN</td>\n",
       "      <td>NaN</td>\n",
       "      <td>NaN</td>\n",
       "      <td>NaN</td>\n",
       "    </tr>\n",
       "    <tr>\n",
       "      <th>3</th>\n",
       "      <td>10 Best Foods for You</td>\n",
       "      <td>Works great especially going grocery store</td>\n",
       "      <td>Positive</td>\n",
       "      <td>0.40</td>\n",
       "      <td>0.875000</td>\n",
       "    </tr>\n",
       "    <tr>\n",
       "      <th>4</th>\n",
       "      <td>10 Best Foods for You</td>\n",
       "      <td>Best idea us</td>\n",
       "      <td>Positive</td>\n",
       "      <td>1.00</td>\n",
       "      <td>0.300000</td>\n",
       "    </tr>\n",
       "  </tbody>\n",
       "</table>\n",
       "</div>"
      ],
      "text/plain": [
       "                     App                                  Translated_Review  \\\n",
       "0  10 Best Foods for You  I like eat delicious food. That's I'm cooking ...   \n",
       "1  10 Best Foods for You    This help eating healthy exercise regular basis   \n",
       "2  10 Best Foods for You                                                NaN   \n",
       "3  10 Best Foods for You         Works great especially going grocery store   \n",
       "4  10 Best Foods for You                                       Best idea us   \n",
       "\n",
       "  Sentiment  Sentiment_Polarity  Sentiment_Subjectivity  \n",
       "0  Positive                1.00                0.533333  \n",
       "1  Positive                0.25                0.288462  \n",
       "2       NaN                 NaN                     NaN  \n",
       "3  Positive                0.40                0.875000  \n",
       "4  Positive                1.00                0.300000  "
      ]
     },
     "execution_count": 3,
     "metadata": {},
     "output_type": "execute_result"
    }
   ],
   "source": [
    "gps_rev.head()\n"
   ]
  },
  {
   "cell_type": "code",
   "execution_count": 4,
   "id": "1a78aeb0-99b7-43a9-a4aa-8861cfff888c",
   "metadata": {},
   "outputs": [
    {
     "data": {
      "text/html": [
       "<div>\n",
       "<style scoped>\n",
       "    .dataframe tbody tr th:only-of-type {\n",
       "        vertical-align: middle;\n",
       "    }\n",
       "\n",
       "    .dataframe tbody tr th {\n",
       "        vertical-align: top;\n",
       "    }\n",
       "\n",
       "    .dataframe thead th {\n",
       "        text-align: right;\n",
       "    }\n",
       "</style>\n",
       "<table border=\"1\" class=\"dataframe\">\n",
       "  <thead>\n",
       "    <tr style=\"text-align: right;\">\n",
       "      <th></th>\n",
       "      <th>Translated_Review</th>\n",
       "      <th>Sentiment</th>\n",
       "    </tr>\n",
       "  </thead>\n",
       "  <tbody>\n",
       "    <tr>\n",
       "      <th>0</th>\n",
       "      <td>I like eat delicious food. That's I'm cooking ...</td>\n",
       "      <td>Positive</td>\n",
       "    </tr>\n",
       "    <tr>\n",
       "      <th>1</th>\n",
       "      <td>This help eating healthy exercise regular basis</td>\n",
       "      <td>Positive</td>\n",
       "    </tr>\n",
       "    <tr>\n",
       "      <th>2</th>\n",
       "      <td>NaN</td>\n",
       "      <td>NaN</td>\n",
       "    </tr>\n",
       "    <tr>\n",
       "      <th>3</th>\n",
       "      <td>Works great especially going grocery store</td>\n",
       "      <td>Positive</td>\n",
       "    </tr>\n",
       "    <tr>\n",
       "      <th>4</th>\n",
       "      <td>Best idea us</td>\n",
       "      <td>Positive</td>\n",
       "    </tr>\n",
       "    <tr>\n",
       "      <th>...</th>\n",
       "      <td>...</td>\n",
       "      <td>...</td>\n",
       "    </tr>\n",
       "    <tr>\n",
       "      <th>64290</th>\n",
       "      <td>NaN</td>\n",
       "      <td>NaN</td>\n",
       "    </tr>\n",
       "    <tr>\n",
       "      <th>64291</th>\n",
       "      <td>NaN</td>\n",
       "      <td>NaN</td>\n",
       "    </tr>\n",
       "    <tr>\n",
       "      <th>64292</th>\n",
       "      <td>NaN</td>\n",
       "      <td>NaN</td>\n",
       "    </tr>\n",
       "    <tr>\n",
       "      <th>64293</th>\n",
       "      <td>NaN</td>\n",
       "      <td>NaN</td>\n",
       "    </tr>\n",
       "    <tr>\n",
       "      <th>64294</th>\n",
       "      <td>NaN</td>\n",
       "      <td>NaN</td>\n",
       "    </tr>\n",
       "  </tbody>\n",
       "</table>\n",
       "<p>64295 rows × 2 columns</p>\n",
       "</div>"
      ],
      "text/plain": [
       "                                       Translated_Review Sentiment\n",
       "0      I like eat delicious food. That's I'm cooking ...  Positive\n",
       "1        This help eating healthy exercise regular basis  Positive\n",
       "2                                                    NaN       NaN\n",
       "3             Works great especially going grocery store  Positive\n",
       "4                                           Best idea us  Positive\n",
       "...                                                  ...       ...\n",
       "64290                                                NaN       NaN\n",
       "64291                                                NaN       NaN\n",
       "64292                                                NaN       NaN\n",
       "64293                                                NaN       NaN\n",
       "64294                                                NaN       NaN\n",
       "\n",
       "[64295 rows x 2 columns]"
      ]
     },
     "execution_count": 4,
     "metadata": {},
     "output_type": "execute_result"
    }
   ],
   "source": [
    "gps_rev[['Translated_Review', 'Sentiment']]\n"
   ]
  },
  {
   "cell_type": "code",
   "execution_count": 5,
   "id": "18f84989-4452-402c-a2fa-cad94507061a",
   "metadata": {},
   "outputs": [],
   "source": [
    "gps_rev = gps_rev.dropna()\n",
    "gps_rev = gps_rev.reset_index(drop=True)\n"
   ]
  },
  {
   "cell_type": "code",
   "execution_count": 6,
   "id": "11d90098-2370-4451-a9c3-a665edc371f7",
   "metadata": {},
   "outputs": [
    {
     "data": {
      "text/plain": [
       "array(['Positive', 'Neutral', 'Negative'], dtype=object)"
      ]
     },
     "execution_count": 6,
     "metadata": {},
     "output_type": "execute_result"
    }
   ],
   "source": [
    "#Uniques values\n",
    "gps_rev['Sentiment'].unique()\n"
   ]
  },
  {
   "cell_type": "code",
   "execution_count": 7,
   "id": "5a583a56-3b2c-4f05-a7ff-e1abed9fbb14",
   "metadata": {},
   "outputs": [
    {
     "data": {
      "text/plain": [
       "0"
      ]
     },
     "execution_count": 7,
     "metadata": {},
     "output_type": "execute_result"
    }
   ],
   "source": [
    "#Null VALUES\n",
    "gps_rev[\"Translated_Review\"].isnull().sum()\n"
   ]
  },
  {
   "cell_type": "code",
   "execution_count": 8,
   "id": "2cbb99bd-f43e-49f3-94cc-6d85e2dc544d",
   "metadata": {},
   "outputs": [],
   "source": [
    "def depure_data(data):\n",
    "    \n",
    "    #Removing URLs with a regular expression\n",
    "    url_pattern = re.compile(r'https?://\\S+|www\\.\\S+')\n",
    "    data = url_pattern.sub(r'', data)\n",
    "\n",
    "    # Remove Emails\n",
    "    data = re.sub('\\S*@\\S*\\s?', '', data)\n",
    "\n",
    "    # Remove new line characters\n",
    "    data = re.sub('\\s+', ' ', data)\n",
    "\n",
    "    # Remove distracting single quotes\n",
    "    data = re.sub(\"\\'\" , \"\", data)\n",
    "        \n",
    "    return data"
   ]
  },
  {
   "cell_type": "code",
   "execution_count": 9,
   "id": "2c0fedd2-d567-4acb-9f1f-b8641ad5d5dd",
   "metadata": {},
   "outputs": [],
   "source": [
    "list_rev = []\n",
    "#Splitting gps_rev to list\n",
    "data_to_list = gps_rev[\"Translated_Review\"].values.tolist()\n",
    "\n"
   ]
  },
  {
   "cell_type": "code",
   "execution_count": 10,
   "id": "4ece5915-1405-4295-9000-cb62bbac02d8",
   "metadata": {},
   "outputs": [
    {
     "data": {
      "text/plain": [
       "['I like eat delicious food. Thats Im cooking food myself, case \"10 Best Foods\" helps lot, also \"Best Before (Shelf Life)\"',\n",
       " 'This help eating healthy exercise regular basis',\n",
       " 'Works great especially going grocery store',\n",
       " 'Best idea us',\n",
       " 'Best way']"
      ]
     },
     "execution_count": 10,
     "metadata": {},
     "output_type": "execute_result"
    }
   ],
   "source": [
    "for i in range(len(data_to_list)):\n",
    "    list_rev.append(depure_data(data_to_list[i]))\n",
    "list(list_rev[:5])"
   ]
  },
  {
   "cell_type": "code",
   "execution_count": 11,
   "id": "d24122cb-5912-444e-b205-97db596faadc",
   "metadata": {},
   "outputs": [],
   "source": [
    "#to understand yield https://stackoverflow.com/questions/231767/what-does-the-yield-keyword-do\n",
    "#Break sentences into words:\n",
    "def break_sent2word(sentences):\n",
    "    for sentence in sentences:\n",
    "        yield(gensim.utils.simple_preprocess(str(sentence), deacc=True))  # deacc=True removes punctuations\n",
    "        #gensim... Convert sentences into a list of tokens\n",
    "\n"
   ]
  },
  {
   "cell_type": "code",
   "execution_count": 12,
   "id": "31f1c325-de25-4fec-9424-8d8d4d128335",
   "metadata": {},
   "outputs": [
    {
     "name": "stdout",
     "output_type": "stream",
     "text": [
      "[['like', 'eat', 'delicious', 'food', 'thats', 'im', 'cooking', 'food', 'myself', 'case', 'best', 'foods', 'helps', 'lot', 'also', 'best', 'before', 'shelf', 'life'], ['this', 'help', 'eating', 'healthy', 'exercise', 'regular', 'basis'], ['works', 'great', 'especially', 'going', 'grocery', 'store'], ['best', 'idea', 'us'], ['best', 'way'], ['amazing'], ['looking', 'forward', 'app'], ['it', 'helpful', 'site', 'it', 'help', 'foods', 'get'], ['good', 'you'], ['useful', 'information', 'the', 'amount', 'spelling', 'errors', 'questions', 'validity', 'information', 'shared', 'once', 'fixed', 'stars', 'given'], ['thank', 'you', 'great', 'app', 'add', 'arthritis', 'eyes', 'immunity', 'kidney', 'liver', 'detox', 'foods', 'please'], ['greatest', 'ever', 'completely', 'awesome', 'maintain', 'health', 'this', 'must', 'ppl', 'there', 'love', 'it'], ['good', 'health', 'good', 'health', 'first', 'priority'], ['health', 'its', 'important', 'world', 'either', 'life', 'think'], ['mrs', 'sunita', 'bhati', 'thankful', 'developers', 'to', 'make', 'kind', 'app', 'really', 'good', 'healthy', 'food', 'body'], ['very', 'useful', 'in', 'diabetes', 'age', 'need', 'control', 'sugar', 'thanks'], ['one', 'greatest', 'apps'], ['good', 'nice'], ['healthy', 'really', 'helped'], ['god', 'health']]\n"
     ]
    }
   ],
   "source": [
    "data_words = list(break_sent2word(list_rev))\n",
    "\n",
    "print(data_words[:20])"
   ]
  },
  {
   "cell_type": "code",
   "execution_count": 13,
   "id": "a36a4c70-a040-49be-b416-2527d21a2754",
   "metadata": {},
   "outputs": [],
   "source": [
    "def detokenize(text):\n",
    "    return TreebankWordDetokenizer().detokenize(text)\n",
    "\n",
    "# to understand about TreebankWordDetokenizer\n",
    "#https://www.nltk.org/_modules/nltk/tokenize/treebank.html"
   ]
  },
  {
   "cell_type": "code",
   "execution_count": 14,
   "id": "27cfa0fa-fef5-41ce-84b1-06204916ad04",
   "metadata": {},
   "outputs": [],
   "source": [
    "treated_rev = []\n",
    "for i in range(len(data_words)):\n",
    "    treated_rev.append(detokenize(data_words[i]))\n"
   ]
  },
  {
   "cell_type": "code",
   "execution_count": 15,
   "id": "d65308b4-6848-4225-8a5c-2dd1fcd7a035",
   "metadata": {},
   "outputs": [
    {
     "name": "stdout",
     "output_type": "stream",
     "text": [
      "['like eat delicious food thats im cooking food myself case best foods helps lot also best before shelf life', 'this help eating healthy exercise regular basis', 'works great especially going grocery store', 'best idea us', 'best way', 'amazing', 'looking forward app', 'it helpful site it help foods get', 'good you', 'useful information the amount spelling errors questions validity information shared once fixed stars given', 'thank you great app add arthritis eyes immunity kidney liver detox foods please', 'greatest ever completely awesome maintain health this must ppl there love it', 'good health good health first priority', 'health its important world either life think', 'mrs sunita bhati thankful developers to make kind app really good healthy food body', 'very useful in diabetes age need control sugar thanks', 'one greatest apps', 'good nice', 'healthy really helped', 'god health']\n"
     ]
    }
   ],
   "source": [
    "print(treated_rev[:20])"
   ]
  },
  {
   "cell_type": "code",
   "execution_count": 16,
   "id": "1dfa30c6-e72d-40b7-9412-09d52c338e27",
   "metadata": {},
   "outputs": [],
   "source": [
    "treated_rev = np.array(treated_rev)\n"
   ]
  },
  {
   "cell_type": "code",
   "execution_count": 17,
   "id": "7300a5cb-e834-4ea2-8a5c-17ae661bac64",
   "metadata": {},
   "outputs": [
    {
     "data": {
      "text/plain": [
       "array(['like eat delicious food thats im cooking food myself case best foods helps lot also best before shelf life',\n",
       "       'this help eating healthy exercise regular basis',\n",
       "       'works great especially going grocery store', ...,\n",
       "       'dumb app wanted post property rent give option website work waste time space phone',\n",
       "       'property business got link sms happy performance still guys need raise bar guys cheers',\n",
       "       'useless app searched flats kondapur hyderabad none number reachable know flats unavailable would keep posts active'],\n",
       "      dtype='<U2513')"
      ]
     },
     "execution_count": 17,
     "metadata": {},
     "output_type": "execute_result"
    }
   ],
   "source": [
    "treated_rev"
   ]
  },
  {
   "cell_type": "markdown",
   "id": "4a7b05f4-68ba-4b44-ac18-b7db75d0ffcf",
   "metadata": {},
   "source": [
    "## Creating new column Sentiment_num"
   ]
  },
  {
   "cell_type": "markdown",
   "id": "7d6e2f66-75e0-46ab-80c1-1dc71d2166ec",
   "metadata": {},
   "source": [
    "convert the Sentiment labels from (Neutral, Negative, Positive) to a float type that our model can understand. To achieve this task, we'll implement the **to_categorical method** from Keras."
   ]
  },
  {
   "cell_type": "code",
   "execution_count": 18,
   "id": "31a7fb5b-41fc-4fa9-9c7f-2bf75374d2e2",
   "metadata": {},
   "outputs": [],
   "source": [
    "sent_labeled = np.array(gps_rev['Sentiment'])\n",
    "y = []\n",
    "for i in range(len(sent_labeled)):\n",
    "    if sent_labeled[i] == 'Neutral':\n",
    "        y.append(0)\n",
    "    if sent_labeled[i] == 'Negative':\n",
    "        y.append(1)\n",
    "    if sent_labeled[i] == 'Positive':\n",
    "        y.append(2)\n",
    "y = np.array(y)\n",
    "sent_labeled = tf.keras.utils.to_categorical(y, 3, dtype=\"float32\")\n",
    "del y"
   ]
  },
  {
   "cell_type": "code",
   "execution_count": null,
   "id": "7e0b4fa6-4723-44d6-af8f-23cf1a3cdd24",
   "metadata": {},
   "outputs": [],
   "source": []
  },
  {
   "cell_type": "markdown",
   "id": "b71f1ac1-066e-4718-94cb-f7ab4341e5bc",
   "metadata": {},
   "source": [
    "We'll implement the Keras tokenizer as well as its pad_sequences method to transform our text data into 3D float data, otherwise our neural networks won't be able to be trained on it.\n",
    "\n"
   ]
  },
  {
   "cell_type": "code",
   "execution_count": 19,
   "id": "3ffb8722-6638-4ca8-9d6d-178071d10bf2",
   "metadata": {},
   "outputs": [],
   "source": [
    "from tensorflow.keras.optimizers import RMSprop,Adam\n"
   ]
  },
  {
   "cell_type": "code",
   "execution_count": 20,
   "id": "72e99e9c-b274-46f0-95b8-04cd6da1b069",
   "metadata": {},
   "outputs": [],
   "source": [
    "from keras.models import Sequential\n",
    "from keras.layers import Dense\n",
    "from sklearn.metrics import mean_squared_error\n",
    "from sklearn.model_selection import train_test_split\n"
   ]
  },
  {
   "cell_type": "code",
   "execution_count": 21,
   "id": "1fc60035-c97a-4b7b-a0b0-0c1ba4d8c687",
   "metadata": {},
   "outputs": [],
   "source": [
    "from keras import layers\n",
    "from keras.preprocessing.text import Tokenizer\n",
    "from keras.preprocessing.sequence import pad_sequences\n",
    "from keras import regularizers\n",
    "from keras import backend as K\n",
    "from keras.callbacks import ModelCheckpoint\n",
    "max_words = 5000\n",
    "max_len = 200\n"
   ]
  },
  {
   "cell_type": "markdown",
   "id": "c25e4017-5a1c-4c0f-b363-0f90fa37708c",
   "metadata": {
    "jupyter": {
     "source_hidden": true
    },
    "tags": []
   },
   "source": [
    "keras.preprocessing.text:\n",
    "This class allows to vectorize a text corpus, by turning each text into either a sequence of integers (each integer being the index of a token in a dictionary) or into a vector where the coefficient for each token could be binary, based on word count, based on tf-idf...\n",
    "\n",
    "By default, all punctuation is removed, turning the texts into space-separated sequences of words (words maybe include the ' character). These sequences are then split into lists of tokens. They will then be indexed or vectorized."
   ]
  },
  {
   "cell_type": "code",
   "execution_count": 22,
   "id": "1ed90856-a86e-4261-a79c-bdc842cab4e7",
   "metadata": {},
   "outputs": [],
   "source": [
    "tokenizer = Tokenizer(num_words=max_words)\n",
    "tokenizer.fit_on_texts(treated_rev)"
   ]
  },
  {
   "cell_type": "markdown",
   "id": "2b44e477-a452-411d-824f-6386281f7a7f",
   "metadata": {},
   "source": [
    "**pad_sequences** is used to ensure that all sequences in a list have the same length. By default this is done by padding 0 in the beginning of each sequence until each sequence has the same length as the longest sequence.\n",
    "\n",
    "**texts_to_sequences** method helps in converting tokens of text corpus into a sequence of integers\n"
   ]
  },
  {
   "cell_type": "code",
   "execution_count": 23,
   "id": "192db438-5eb4-4797-962f-ed04d3d820f5",
   "metadata": {},
   "outputs": [
    {
     "name": "stdout",
     "output_type": "stream",
     "text": [
      "[[   0    0    0 ...  500 4799  266]\n",
      " [   0    0    0 ... 1042 1026 2149]\n",
      " [   0    0    0 ...  127 1874  323]\n",
      " ...\n",
      " [   0    0    0 ...   11  504   22]\n",
      " [   0    0    0 ...  605  219 3154]\n",
      " [   0    0    0 ...   58 1281 1206]]\n"
     ]
    }
   ],
   "source": [
    "sequences = tokenizer.texts_to_sequences(treated_rev)\n",
    "rev_vect_padded = pad_sequences(sequences, maxlen=max_len)\n",
    "print(rev_vect_padded)"
   ]
  },
  {
   "cell_type": "code",
   "execution_count": 24,
   "id": "c238aa66-55da-4f72-a33e-aa53c47d17b7",
   "metadata": {},
   "outputs": [
    {
     "name": "stdout",
     "output_type": "stream",
     "text": [
      "[[0. 0. 1.]\n",
      " [0. 0. 1.]\n",
      " [0. 0. 1.]\n",
      " ...\n",
      " [0. 1. 0.]\n",
      " [0. 0. 1.]\n",
      " [0. 1. 0.]]\n"
     ]
    }
   ],
   "source": [
    "print(sent_labeled)\n"
   ]
  },
  {
   "cell_type": "code",
   "execution_count": 25,
   "id": "ee2389e4-fda0-4987-b896-3a40b317ca1e",
   "metadata": {},
   "outputs": [
    {
     "name": "stdout",
     "output_type": "stream",
     "text": [
      "28070 9357 28070 9357\n"
     ]
    }
   ],
   "source": [
    "#Splitting the data\n",
    "X_train, X_test, y_train, y_test = train_test_split(rev_vect_padded,sent_labeled, random_state=0)\n",
    "print (len(X_train),len(X_test),len(y_train),len(y_test))\n"
   ]
  },
  {
   "cell_type": "code",
   "execution_count": null,
   "id": "21342d91-42e1-4752-b409-524fdc290b57",
   "metadata": {},
   "outputs": [],
   "source": []
  },
  {
   "cell_type": "markdown",
   "id": "142b6ed2-5ebd-46bb-a472-b2d48a462787",
   "metadata": {},
   "source": [
    "## Model building\n"
   ]
  },
  {
   "cell_type": "markdown",
   "id": "d31b3831-3119-4e65-b6f5-dfb7705eca46",
   "metadata": {},
   "source": [
    "Embedding layer enables us to convert each word into a fixed length vector of defined size. The resultant vector is a dense one"
   ]
  },
  {
   "cell_type": "code",
   "execution_count": 26,
   "id": "6158bd71-d4c1-4980-95af-391e826b1cac",
   "metadata": {},
   "outputs": [
    {
     "data": {
      "text/plain": [
       "'\\nSingle LSTM layer model\\n\\n'"
      ]
     },
     "execution_count": 26,
     "metadata": {},
     "output_type": "execute_result"
    }
   ],
   "source": [
    "\"\"\"\n",
    "Single LSTM layer model\n",
    "\n",
    "\"\"\""
   ]
  },
  {
   "cell_type": "code",
   "execution_count": 27,
   "id": "8f9af5d9-4e46-4e0a-84d8-82e0eb580b84",
   "metadata": {},
   "outputs": [
    {
     "name": "stderr",
     "output_type": "stream",
     "text": [
      "2022-10-04 11:40:52.341029: I tensorflow/core/platform/cpu_feature_guard.cc:151] This TensorFlow binary is optimized with oneAPI Deep Neural Network Library (oneDNN) to use the following CPU instructions in performance-critical operations:  AVX2 FMA\n",
      "To enable them in other operations, rebuild TensorFlow with the appropriate compiler flags.\n"
     ]
    },
    {
     "name": "stdout",
     "output_type": "stream",
     "text": [
      "WARNING:tensorflow:`period` argument is deprecated. Please use `save_freq` to specify the frequency in number of batches seen.\n",
      "Epoch 1/70\n",
      "878/878 [==============================] - ETA: 0s - loss: 0.6409 - accuracy: 0.7266\n",
      "Epoch 1: val_accuracy improved from -inf to 0.81714, saving model to best_model1.hdf5\n",
      "878/878 [==============================] - 55s 61ms/step - loss: 0.6409 - accuracy: 0.7266 - val_loss: 0.4635 - val_accuracy: 0.8171\n",
      "Epoch 2/70\n",
      "878/878 [==============================] - ETA: 0s - loss: 0.4027 - accuracy: 0.8439\n",
      "Epoch 2: val_accuracy improved from 0.81714 to 0.87624, saving model to best_model1.hdf5\n",
      "878/878 [==============================] - 51s 58ms/step - loss: 0.4027 - accuracy: 0.8439 - val_loss: 0.3482 - val_accuracy: 0.8762\n",
      "Epoch 3/70\n",
      "878/878 [==============================] - ETA: 0s - loss: 0.3291 - accuracy: 0.8808\n",
      "Epoch 3: val_accuracy improved from 0.87624 to 0.88469, saving model to best_model1.hdf5\n",
      "878/878 [==============================] - 50s 57ms/step - loss: 0.3291 - accuracy: 0.8808 - val_loss: 0.3288 - val_accuracy: 0.8847\n",
      "Epoch 4/70\n",
      "878/878 [==============================] - ETA: 0s - loss: 0.2930 - accuracy: 0.8962\n",
      "Epoch 4: val_accuracy improved from 0.88469 to 0.90520, saving model to best_model1.hdf5\n",
      "878/878 [==============================] - 53s 60ms/step - loss: 0.2930 - accuracy: 0.8962 - val_loss: 0.2806 - val_accuracy: 0.9052\n",
      "Epoch 5/70\n",
      "878/878 [==============================] - ETA: 0s - loss: 0.2730 - accuracy: 0.9027\n",
      "Epoch 5: val_accuracy improved from 0.90520 to 0.91258, saving model to best_model1.hdf5\n",
      "878/878 [==============================] - 51s 58ms/step - loss: 0.2730 - accuracy: 0.9027 - val_loss: 0.2657 - val_accuracy: 0.9126\n",
      "Epoch 6/70\n",
      "878/878 [==============================] - ETA: 0s - loss: 0.2537 - accuracy: 0.9116\n",
      "Epoch 6: val_accuracy did not improve from 0.91258\n",
      "878/878 [==============================] - 56s 64ms/step - loss: 0.2537 - accuracy: 0.9116 - val_loss: 0.2616 - val_accuracy: 0.9114\n",
      "Epoch 7/70\n",
      "878/878 [==============================] - ETA: 0s - loss: 0.2409 - accuracy: 0.9160\n",
      "Epoch 7: val_accuracy did not improve from 0.91258\n",
      "878/878 [==============================] - 52s 59ms/step - loss: 0.2409 - accuracy: 0.9160 - val_loss: 0.2561 - val_accuracy: 0.9108\n",
      "Epoch 8/70\n",
      "878/878 [==============================] - ETA: 0s - loss: 0.2336 - accuracy: 0.9192\n",
      "Epoch 8: val_accuracy improved from 0.91258 to 0.91482, saving model to best_model1.hdf5\n",
      "878/878 [==============================] - 51s 58ms/step - loss: 0.2336 - accuracy: 0.9192 - val_loss: 0.2623 - val_accuracy: 0.9148\n",
      "Epoch 9/70\n",
      "878/878 [==============================] - ETA: 0s - loss: 0.2263 - accuracy: 0.9221\n",
      "Epoch 9: val_accuracy did not improve from 0.91482\n",
      "878/878 [==============================] - 51s 58ms/step - loss: 0.2263 - accuracy: 0.9221 - val_loss: 0.2594 - val_accuracy: 0.9133\n",
      "Epoch 10/70\n",
      "878/878 [==============================] - ETA: 0s - loss: 0.2237 - accuracy: 0.9230\n",
      "Epoch 10: val_accuracy improved from 0.91482 to 0.91888, saving model to best_model1.hdf5\n",
      "878/878 [==============================] - 54s 62ms/step - loss: 0.2237 - accuracy: 0.9230 - val_loss: 0.2475 - val_accuracy: 0.9189\n",
      "Epoch 11/70\n",
      "878/878 [==============================] - ETA: 0s - loss: 0.2176 - accuracy: 0.9254\n",
      "Epoch 11: val_accuracy improved from 0.91888 to 0.92198, saving model to best_model1.hdf5\n",
      "878/878 [==============================] - 54s 62ms/step - loss: 0.2176 - accuracy: 0.9254 - val_loss: 0.2435 - val_accuracy: 0.9220\n",
      "Epoch 12/70\n",
      "878/878 [==============================] - ETA: 0s - loss: 0.2166 - accuracy: 0.9278\n",
      "Epoch 12: val_accuracy did not improve from 0.92198\n",
      "878/878 [==============================] - 52s 59ms/step - loss: 0.2166 - accuracy: 0.9278 - val_loss: 0.2582 - val_accuracy: 0.9141\n",
      "Epoch 13/70\n",
      "878/878 [==============================] - ETA: 0s - loss: 0.2112 - accuracy: 0.9279\n",
      "Epoch 13: val_accuracy did not improve from 0.92198\n",
      "878/878 [==============================] - 53s 61ms/step - loss: 0.2112 - accuracy: 0.9279 - val_loss: 0.2434 - val_accuracy: 0.9205\n",
      "Epoch 14/70\n",
      "878/878 [==============================] - ETA: 0s - loss: 0.2086 - accuracy: 0.9292\n",
      "Epoch 14: val_accuracy did not improve from 0.92198\n",
      "878/878 [==============================] - 52s 59ms/step - loss: 0.2086 - accuracy: 0.9292 - val_loss: 0.2467 - val_accuracy: 0.9212\n",
      "Epoch 15/70\n",
      "878/878 [==============================] - ETA: 0s - loss: 0.2047 - accuracy: 0.9296\n",
      "Epoch 15: val_accuracy improved from 0.92198 to 0.92220, saving model to best_model1.hdf5\n",
      "878/878 [==============================] - 51s 59ms/step - loss: 0.2047 - accuracy: 0.9296 - val_loss: 0.2407 - val_accuracy: 0.9222\n",
      "Epoch 16/70\n",
      "878/878 [==============================] - ETA: 0s - loss: 0.2015 - accuracy: 0.9317\n",
      "Epoch 16: val_accuracy did not improve from 0.92220\n",
      "878/878 [==============================] - 52s 59ms/step - loss: 0.2015 - accuracy: 0.9317 - val_loss: 0.2357 - val_accuracy: 0.9194\n",
      "Epoch 17/70\n",
      "878/878 [==============================] - ETA: 0s - loss: 0.2004 - accuracy: 0.9320\n",
      "Epoch 17: val_accuracy did not improve from 0.92220\n",
      "878/878 [==============================] - 53s 60ms/step - loss: 0.2004 - accuracy: 0.9320 - val_loss: 0.2459 - val_accuracy: 0.9209\n",
      "Epoch 18/70\n",
      "878/878 [==============================] - ETA: 0s - loss: 0.1992 - accuracy: 0.9320\n",
      "Epoch 18: val_accuracy improved from 0.92220 to 0.92369, saving model to best_model1.hdf5\n",
      "878/878 [==============================] - 52s 59ms/step - loss: 0.1992 - accuracy: 0.9320 - val_loss: 0.2375 - val_accuracy: 0.9237\n",
      "Epoch 19/70\n",
      "878/878 [==============================] - ETA: 0s - loss: 0.1932 - accuracy: 0.9349\n",
      "Epoch 19: val_accuracy improved from 0.92369 to 0.92615, saving model to best_model1.hdf5\n",
      "878/878 [==============================] - 54s 62ms/step - loss: 0.1932 - accuracy: 0.9349 - val_loss: 0.2316 - val_accuracy: 0.9262\n",
      "Epoch 20/70\n",
      "878/878 [==============================] - ETA: 0s - loss: 0.1956 - accuracy: 0.9335\n",
      "Epoch 20: val_accuracy did not improve from 0.92615\n",
      "878/878 [==============================] - 54s 61ms/step - loss: 0.1956 - accuracy: 0.9335 - val_loss: 0.2416 - val_accuracy: 0.9216\n",
      "Epoch 21/70\n",
      "878/878 [==============================] - ETA: 0s - loss: 0.1908 - accuracy: 0.9340\n",
      "Epoch 21: val_accuracy did not improve from 0.92615\n",
      "878/878 [==============================] - 54s 62ms/step - loss: 0.1908 - accuracy: 0.9340 - val_loss: 0.2332 - val_accuracy: 0.9207\n",
      "Epoch 22/70\n",
      "878/878 [==============================] - ETA: 0s - loss: 0.1878 - accuracy: 0.9368\n",
      "Epoch 22: val_accuracy did not improve from 0.92615\n",
      "878/878 [==============================] - 54s 62ms/step - loss: 0.1878 - accuracy: 0.9368 - val_loss: 0.2271 - val_accuracy: 0.9233\n",
      "Epoch 23/70\n",
      "878/878 [==============================] - ETA: 0s - loss: 0.1910 - accuracy: 0.9350\n",
      "Epoch 23: val_accuracy did not improve from 0.92615\n",
      "878/878 [==============================] - 54s 61ms/step - loss: 0.1910 - accuracy: 0.9350 - val_loss: 0.2240 - val_accuracy: 0.9247\n",
      "Epoch 24/70\n",
      "878/878 [==============================] - ETA: 0s - loss: 0.1856 - accuracy: 0.9380\n",
      "Epoch 24: val_accuracy did not improve from 0.92615\n",
      "878/878 [==============================] - 52s 60ms/step - loss: 0.1856 - accuracy: 0.9380 - val_loss: 0.2417 - val_accuracy: 0.9243\n",
      "Epoch 25/70\n",
      "878/878 [==============================] - ETA: 0s - loss: 0.1853 - accuracy: 0.9382\n",
      "Epoch 25: val_accuracy did not improve from 0.92615\n",
      "878/878 [==============================] - 52s 59ms/step - loss: 0.1853 - accuracy: 0.9382 - val_loss: 0.2267 - val_accuracy: 0.9253\n",
      "Epoch 26/70\n",
      "878/878 [==============================] - ETA: 0s - loss: 0.1837 - accuracy: 0.9374\n",
      "Epoch 26: val_accuracy improved from 0.92615 to 0.92765, saving model to best_model1.hdf5\n",
      "878/878 [==============================] - 52s 59ms/step - loss: 0.1837 - accuracy: 0.9374 - val_loss: 0.2244 - val_accuracy: 0.9276\n",
      "Epoch 27/70\n",
      "878/878 [==============================] - ETA: 0s - loss: 0.1812 - accuracy: 0.9379\n",
      "Epoch 27: val_accuracy improved from 0.92765 to 0.92989, saving model to best_model1.hdf5\n",
      "878/878 [==============================] - 52s 60ms/step - loss: 0.1812 - accuracy: 0.9379 - val_loss: 0.2197 - val_accuracy: 0.9299\n",
      "Epoch 28/70\n",
      "878/878 [==============================] - ETA: 0s - loss: 0.1774 - accuracy: 0.9394\n",
      "Epoch 28: val_accuracy did not improve from 0.92989\n",
      "878/878 [==============================] - 52s 59ms/step - loss: 0.1774 - accuracy: 0.9394 - val_loss: 0.2241 - val_accuracy: 0.9259\n",
      "Epoch 29/70\n",
      "878/878 [==============================] - ETA: 0s - loss: 0.1760 - accuracy: 0.9403\n",
      "Epoch 29: val_accuracy did not improve from 0.92989\n",
      "878/878 [==============================] - 52s 59ms/step - loss: 0.1760 - accuracy: 0.9403 - val_loss: 0.2232 - val_accuracy: 0.9284\n",
      "Epoch 30/70\n",
      "878/878 [==============================] - ETA: 0s - loss: 0.1761 - accuracy: 0.9410\n",
      "Epoch 30: val_accuracy did not improve from 0.92989\n",
      "878/878 [==============================] - 52s 59ms/step - loss: 0.1761 - accuracy: 0.9410 - val_loss: 0.2259 - val_accuracy: 0.9275\n",
      "Epoch 31/70\n",
      "878/878 [==============================] - ETA: 0s - loss: 0.1743 - accuracy: 0.9413\n",
      "Epoch 31: val_accuracy did not improve from 0.92989\n",
      "878/878 [==============================] - 52s 60ms/step - loss: 0.1743 - accuracy: 0.9413 - val_loss: 0.2242 - val_accuracy: 0.9298\n",
      "Epoch 32/70\n",
      "878/878 [==============================] - ETA: 0s - loss: 0.1723 - accuracy: 0.9425\n",
      "Epoch 32: val_accuracy did not improve from 0.92989\n",
      "878/878 [==============================] - 53s 60ms/step - loss: 0.1723 - accuracy: 0.9425 - val_loss: 0.2281 - val_accuracy: 0.9278\n",
      "Epoch 33/70\n",
      "878/878 [==============================] - ETA: 0s - loss: 0.1748 - accuracy: 0.9424\n",
      "Epoch 33: val_accuracy did not improve from 0.92989\n",
      "878/878 [==============================] - 56s 64ms/step - loss: 0.1748 - accuracy: 0.9424 - val_loss: 0.2349 - val_accuracy: 0.9207\n",
      "Epoch 34/70\n",
      "878/878 [==============================] - ETA: 0s - loss: 0.1720 - accuracy: 0.9422\n",
      "Epoch 34: val_accuracy did not improve from 0.92989\n",
      "878/878 [==============================] - 54s 61ms/step - loss: 0.1720 - accuracy: 0.9422 - val_loss: 0.2282 - val_accuracy: 0.9260\n",
      "Epoch 35/70\n",
      "878/878 [==============================] - ETA: 0s - loss: 0.1671 - accuracy: 0.9432\n",
      "Epoch 35: val_accuracy improved from 0.92989 to 0.93043, saving model to best_model1.hdf5\n",
      "878/878 [==============================] - 56s 64ms/step - loss: 0.1671 - accuracy: 0.9432 - val_loss: 0.2214 - val_accuracy: 0.9304\n",
      "Epoch 36/70\n",
      "878/878 [==============================] - ETA: 0s - loss: 0.1713 - accuracy: 0.9424\n",
      "Epoch 36: val_accuracy did not improve from 0.93043\n",
      "878/878 [==============================] - 60s 68ms/step - loss: 0.1713 - accuracy: 0.9424 - val_loss: 0.2257 - val_accuracy: 0.9233\n",
      "Epoch 37/70\n",
      "878/878 [==============================] - ETA: 0s - loss: 0.1672 - accuracy: 0.9436\n",
      "Epoch 37: val_accuracy did not improve from 0.93043\n",
      "878/878 [==============================] - 54s 61ms/step - loss: 0.1672 - accuracy: 0.9436 - val_loss: 0.2238 - val_accuracy: 0.9240\n",
      "Epoch 38/70\n",
      "878/878 [==============================] - ETA: 0s - loss: 0.1677 - accuracy: 0.9437\n",
      "Epoch 38: val_accuracy did not improve from 0.93043\n",
      "878/878 [==============================] - 53s 61ms/step - loss: 0.1677 - accuracy: 0.9437 - val_loss: 0.2194 - val_accuracy: 0.9294\n",
      "Epoch 39/70\n",
      "878/878 [==============================] - ETA: 0s - loss: 0.1641 - accuracy: 0.9450\n",
      "Epoch 39: val_accuracy did not improve from 0.93043\n",
      "878/878 [==============================] - 52s 60ms/step - loss: 0.1641 - accuracy: 0.9450 - val_loss: 0.2204 - val_accuracy: 0.9296\n",
      "Epoch 40/70\n",
      "878/878 [==============================] - ETA: 0s - loss: 0.1639 - accuracy: 0.9445\n",
      "Epoch 40: val_accuracy did not improve from 0.93043\n",
      "878/878 [==============================] - 54s 61ms/step - loss: 0.1639 - accuracy: 0.9445 - val_loss: 0.2265 - val_accuracy: 0.9226\n",
      "Epoch 41/70\n",
      "878/878 [==============================] - ETA: 0s - loss: 0.1627 - accuracy: 0.9460\n",
      "Epoch 41: val_accuracy did not improve from 0.93043\n",
      "878/878 [==============================] - 54s 62ms/step - loss: 0.1627 - accuracy: 0.9460 - val_loss: 0.2224 - val_accuracy: 0.9297\n",
      "Epoch 42/70\n",
      "878/878 [==============================] - ETA: 0s - loss: 0.1586 - accuracy: 0.9455\n",
      "Epoch 42: val_accuracy did not improve from 0.93043\n",
      "878/878 [==============================] - 53s 61ms/step - loss: 0.1586 - accuracy: 0.9455 - val_loss: 0.2278 - val_accuracy: 0.9288\n",
      "Epoch 43/70\n",
      "878/878 [==============================] - ETA: 0s - loss: 0.1610 - accuracy: 0.9451\n",
      "Epoch 43: val_accuracy did not improve from 0.93043\n",
      "878/878 [==============================] - 53s 60ms/step - loss: 0.1610 - accuracy: 0.9451 - val_loss: 0.2337 - val_accuracy: 0.9251\n",
      "Epoch 44/70\n",
      "878/878 [==============================] - ETA: 0s - loss: 0.1631 - accuracy: 0.9450\n",
      "Epoch 44: val_accuracy did not improve from 0.93043\n",
      "878/878 [==============================] - 53s 60ms/step - loss: 0.1631 - accuracy: 0.9450 - val_loss: 0.2220 - val_accuracy: 0.9291\n",
      "Epoch 45/70\n",
      "878/878 [==============================] - ETA: 0s - loss: 0.1606 - accuracy: 0.9467\n",
      "Epoch 45: val_accuracy did not improve from 0.93043\n",
      "878/878 [==============================] - 53s 61ms/step - loss: 0.1606 - accuracy: 0.9467 - val_loss: 0.2355 - val_accuracy: 0.9225\n",
      "Epoch 46/70\n",
      "878/878 [==============================] - ETA: 0s - loss: 0.1581 - accuracy: 0.9460\n",
      "Epoch 46: val_accuracy did not improve from 0.93043\n",
      "878/878 [==============================] - 55s 63ms/step - loss: 0.1581 - accuracy: 0.9460 - val_loss: 0.2319 - val_accuracy: 0.9249\n",
      "Epoch 47/70\n",
      "878/878 [==============================] - ETA: 0s - loss: 0.1571 - accuracy: 0.9480\n",
      "Epoch 47: val_accuracy improved from 0.93043 to 0.93267, saving model to best_model1.hdf5\n",
      "878/878 [==============================] - 53s 60ms/step - loss: 0.1571 - accuracy: 0.9480 - val_loss: 0.2201 - val_accuracy: 0.9327\n",
      "Epoch 48/70\n",
      "878/878 [==============================] - ETA: 0s - loss: 0.1570 - accuracy: 0.9463\n",
      "Epoch 48: val_accuracy did not improve from 0.93267\n",
      "878/878 [==============================] - 53s 60ms/step - loss: 0.1570 - accuracy: 0.9463 - val_loss: 0.2303 - val_accuracy: 0.9249\n",
      "Epoch 49/70\n",
      "878/878 [==============================] - ETA: 0s - loss: 0.1575 - accuracy: 0.9477\n",
      "Epoch 49: val_accuracy did not improve from 0.93267\n",
      "878/878 [==============================] - 55s 63ms/step - loss: 0.1575 - accuracy: 0.9477 - val_loss: 0.2376 - val_accuracy: 0.9256\n",
      "Epoch 50/70\n",
      "878/878 [==============================] - ETA: 0s - loss: 0.1548 - accuracy: 0.9481\n",
      "Epoch 50: val_accuracy did not improve from 0.93267\n",
      "878/878 [==============================] - 56s 64ms/step - loss: 0.1548 - accuracy: 0.9481 - val_loss: 0.2293 - val_accuracy: 0.9275\n",
      "Epoch 51/70\n",
      "878/878 [==============================] - ETA: 0s - loss: 0.1552 - accuracy: 0.9476\n",
      "Epoch 51: val_accuracy did not improve from 0.93267\n",
      "878/878 [==============================] - 66s 75ms/step - loss: 0.1552 - accuracy: 0.9476 - val_loss: 0.2305 - val_accuracy: 0.9279\n",
      "Epoch 52/70\n",
      "878/878 [==============================] - ETA: 0s - loss: 0.1565 - accuracy: 0.9483\n",
      "Epoch 52: val_accuracy did not improve from 0.93267\n",
      "878/878 [==============================] - 55s 63ms/step - loss: 0.1565 - accuracy: 0.9483 - val_loss: 0.2365 - val_accuracy: 0.9242\n",
      "Epoch 53/70\n",
      "878/878 [==============================] - ETA: 0s - loss: 0.1579 - accuracy: 0.9469\n",
      "Epoch 53: val_accuracy did not improve from 0.93267\n",
      "878/878 [==============================] - 56s 64ms/step - loss: 0.1579 - accuracy: 0.9469 - val_loss: 0.2322 - val_accuracy: 0.9237\n",
      "Epoch 54/70\n",
      "878/878 [==============================] - ETA: 0s - loss: 0.1561 - accuracy: 0.9471\n",
      "Epoch 54: val_accuracy did not improve from 0.93267\n",
      "878/878 [==============================] - 55s 63ms/step - loss: 0.1561 - accuracy: 0.9471 - val_loss: 0.2321 - val_accuracy: 0.9262\n",
      "Epoch 55/70\n",
      "878/878 [==============================] - ETA: 0s - loss: 0.1554 - accuracy: 0.9478\n",
      "Epoch 55: val_accuracy did not improve from 0.93267\n",
      "878/878 [==============================] - 57s 64ms/step - loss: 0.1554 - accuracy: 0.9478 - val_loss: 0.2315 - val_accuracy: 0.9247\n",
      "Epoch 56/70\n",
      "878/878 [==============================] - ETA: 0s - loss: 0.1507 - accuracy: 0.9493\n",
      "Epoch 56: val_accuracy did not improve from 0.93267\n",
      "878/878 [==============================] - 57s 64ms/step - loss: 0.1507 - accuracy: 0.9493 - val_loss: 0.2376 - val_accuracy: 0.9239\n",
      "Epoch 57/70\n",
      "878/878 [==============================] - ETA: 0s - loss: 0.1505 - accuracy: 0.9504\n",
      "Epoch 57: val_accuracy did not improve from 0.93267\n",
      "878/878 [==============================] - 57s 65ms/step - loss: 0.1505 - accuracy: 0.9504 - val_loss: 0.2576 - val_accuracy: 0.9162\n",
      "Epoch 58/70\n",
      "878/878 [==============================] - ETA: 0s - loss: 0.1569 - accuracy: 0.9471\n",
      "Epoch 58: val_accuracy did not improve from 0.93267\n",
      "878/878 [==============================] - 54s 62ms/step - loss: 0.1569 - accuracy: 0.9471 - val_loss: 0.2326 - val_accuracy: 0.9264\n",
      "Epoch 59/70\n",
      "878/878 [==============================] - ETA: 0s - loss: 0.1538 - accuracy: 0.9505\n",
      "Epoch 59: val_accuracy did not improve from 0.93267\n",
      "878/878 [==============================] - 55s 62ms/step - loss: 0.1538 - accuracy: 0.9505 - val_loss: 0.2522 - val_accuracy: 0.9151\n",
      "Epoch 60/70\n",
      "878/878 [==============================] - ETA: 0s - loss: 0.1572 - accuracy: 0.9474\n",
      "Epoch 60: val_accuracy did not improve from 0.93267\n",
      "878/878 [==============================] - 57s 65ms/step - loss: 0.1572 - accuracy: 0.9474 - val_loss: 0.2241 - val_accuracy: 0.9253\n",
      "Epoch 61/70\n",
      "878/878 [==============================] - ETA: 0s - loss: 0.1523 - accuracy: 0.9488\n",
      "Epoch 61: val_accuracy did not improve from 0.93267\n",
      "878/878 [==============================] - 55s 62ms/step - loss: 0.1523 - accuracy: 0.9488 - val_loss: 0.2353 - val_accuracy: 0.9239\n",
      "Epoch 62/70\n",
      "878/878 [==============================] - ETA: 0s - loss: 0.1508 - accuracy: 0.9510\n",
      "Epoch 62: val_accuracy did not improve from 0.93267\n",
      "878/878 [==============================] - 55s 63ms/step - loss: 0.1508 - accuracy: 0.9510 - val_loss: 0.2297 - val_accuracy: 0.9269\n",
      "Epoch 63/70\n",
      "878/878 [==============================] - ETA: 0s - loss: 0.1484 - accuracy: 0.9519\n",
      "Epoch 63: val_accuracy did not improve from 0.93267\n",
      "878/878 [==============================] - 56s 64ms/step - loss: 0.1484 - accuracy: 0.9519 - val_loss: 0.2290 - val_accuracy: 0.9266\n",
      "Epoch 64/70\n",
      "878/878 [==============================] - ETA: 0s - loss: 0.1514 - accuracy: 0.9502\n",
      "Epoch 64: val_accuracy did not improve from 0.93267\n",
      "878/878 [==============================] - 54s 62ms/step - loss: 0.1514 - accuracy: 0.9502 - val_loss: 0.2669 - val_accuracy: 0.9140\n",
      "Epoch 65/70\n",
      "878/878 [==============================] - ETA: 0s - loss: 0.1512 - accuracy: 0.9496\n",
      "Epoch 65: val_accuracy did not improve from 0.93267\n",
      "878/878 [==============================] - 54s 62ms/step - loss: 0.1512 - accuracy: 0.9496 - val_loss: 0.2390 - val_accuracy: 0.9251\n",
      "Epoch 66/70\n",
      "878/878 [==============================] - ETA: 0s - loss: 0.1488 - accuracy: 0.9501\n",
      "Epoch 66: val_accuracy did not improve from 0.93267\n",
      "878/878 [==============================] - 53s 60ms/step - loss: 0.1488 - accuracy: 0.9501 - val_loss: 0.2335 - val_accuracy: 0.9234\n",
      "Epoch 67/70\n",
      "878/878 [==============================] - ETA: 0s - loss: 0.1502 - accuracy: 0.9511\n",
      "Epoch 67: val_accuracy did not improve from 0.93267\n",
      "878/878 [==============================] - 53s 60ms/step - loss: 0.1502 - accuracy: 0.9511 - val_loss: 0.2337 - val_accuracy: 0.9223\n",
      "Epoch 68/70\n",
      "878/878 [==============================] - ETA: 0s - loss: 0.1499 - accuracy: 0.9503\n",
      "Epoch 68: val_accuracy did not improve from 0.93267\n",
      "878/878 [==============================] - 53s 60ms/step - loss: 0.1499 - accuracy: 0.9503 - val_loss: 0.2390 - val_accuracy: 0.9235\n",
      "Epoch 69/70\n",
      "878/878 [==============================] - ETA: 0s - loss: 0.1467 - accuracy: 0.9524\n",
      "Epoch 69: val_accuracy did not improve from 0.93267\n",
      "878/878 [==============================] - 53s 60ms/step - loss: 0.1467 - accuracy: 0.9524 - val_loss: 0.2464 - val_accuracy: 0.9191\n",
      "Epoch 70/70\n",
      "878/878 [==============================] - ETA: 0s - loss: 0.1481 - accuracy: 0.9517\n",
      "Epoch 70: val_accuracy did not improve from 0.93267\n",
      "878/878 [==============================] - 53s 60ms/step - loss: 0.1481 - accuracy: 0.9517 - val_loss: 0.2397 - val_accuracy: 0.9238\n"
     ]
    }
   ],
   "source": [
    "model1 = Sequential()\n",
    "model1.add(layers.Embedding(max_words, 20))\n",
    "model1.add(layers.LSTM(15,dropout=0.5))\n",
    "model1.add(layers.Dense(3,activation='softmax'))\n",
    "\n",
    "\n",
    "model1.compile(optimizer='rmsprop',loss='categorical_crossentropy', metrics=['accuracy'])\n",
    "#Implementing model checkpoins to save the best metric and do not lose it on training.\n",
    "checkpoint1 = ModelCheckpoint(\"best_model1.hdf5\", monitor='val_accuracy', verbose=1,save_best_only=True, mode='auto', period=1,save_weights_only=False)\n",
    "history = model1.fit(X_train, y_train, epochs=70,validation_data=(X_test, y_test),callbacks=[checkpoint1])"
   ]
  },
  {
   "cell_type": "code",
   "execution_count": null,
   "id": "11975591-ce69-450a-87a3-8288d05818a1",
   "metadata": {},
   "outputs": [],
   "source": []
  },
  {
   "cell_type": "code",
   "execution_count": 28,
   "id": "e5be251f-3acc-40d3-a8ab-1aa9f27e5fa3",
   "metadata": {},
   "outputs": [
    {
     "data": {
      "text/plain": [
       "'\\nBidirectional LTSM model\\n\\n'"
      ]
     },
     "execution_count": 28,
     "metadata": {},
     "output_type": "execute_result"
    }
   ],
   "source": [
    "\"\"\"\n",
    "Bidirectional LTSM model\n",
    "\n",
    "\"\"\""
   ]
  },
  {
   "cell_type": "code",
   "execution_count": 29,
   "id": "603077a8-97a0-4539-9e1b-2157147893ce",
   "metadata": {},
   "outputs": [
    {
     "name": "stdout",
     "output_type": "stream",
     "text": [
      "WARNING:tensorflow:`period` argument is deprecated. Please use `save_freq` to specify the frequency in number of batches seen.\n",
      "Epoch 1/70\n",
      "878/878 [==============================] - ETA: 0s - loss: 0.6196 - accuracy: 0.7293\n",
      "Epoch 1: val_accuracy improved from -inf to 0.82420, saving model to best_model2.hdf5\n",
      "878/878 [==============================] - 81s 89ms/step - loss: 0.6196 - accuracy: 0.7293 - val_loss: 0.4507 - val_accuracy: 0.8242\n",
      "Epoch 2/70\n",
      "878/878 [==============================] - ETA: 0s - loss: 0.3882 - accuracy: 0.8526\n",
      "Epoch 2: val_accuracy improved from 0.82420 to 0.87977, saving model to best_model2.hdf5\n",
      "878/878 [==============================] - 77s 88ms/step - loss: 0.3882 - accuracy: 0.8526 - val_loss: 0.3425 - val_accuracy: 0.8798\n",
      "Epoch 3/70\n",
      "878/878 [==============================] - ETA: 0s - loss: 0.3199 - accuracy: 0.8846\n",
      "Epoch 3: val_accuracy improved from 0.87977 to 0.89046, saving model to best_model2.hdf5\n",
      "878/878 [==============================] - 78s 89ms/step - loss: 0.3199 - accuracy: 0.8846 - val_loss: 0.3070 - val_accuracy: 0.8905\n",
      "Epoch 4/70\n",
      "878/878 [==============================] - ETA: 0s - loss: 0.2874 - accuracy: 0.8964\n",
      "Epoch 4: val_accuracy improved from 0.89046 to 0.90435, saving model to best_model2.hdf5\n",
      "878/878 [==============================] - 79s 90ms/step - loss: 0.2874 - accuracy: 0.8964 - val_loss: 0.2717 - val_accuracy: 0.9043\n",
      "Epoch 5/70\n",
      "878/878 [==============================] - ETA: 0s - loss: 0.2630 - accuracy: 0.9076\n",
      "Epoch 5: val_accuracy improved from 0.90435 to 0.91119, saving model to best_model2.hdf5\n",
      "878/878 [==============================] - 78s 89ms/step - loss: 0.2630 - accuracy: 0.9076 - val_loss: 0.2681 - val_accuracy: 0.9112\n",
      "Epoch 6/70\n",
      "878/878 [==============================] - ETA: 0s - loss: 0.2481 - accuracy: 0.9141\n",
      "Epoch 6: val_accuracy did not improve from 0.91119\n",
      "878/878 [==============================] - 78s 89ms/step - loss: 0.2481 - accuracy: 0.9141 - val_loss: 0.2792 - val_accuracy: 0.9084\n",
      "Epoch 7/70\n",
      "878/878 [==============================] - ETA: 0s - loss: 0.2386 - accuracy: 0.9179\n",
      "Epoch 7: val_accuracy did not improve from 0.91119\n",
      "878/878 [==============================] - 80s 91ms/step - loss: 0.2386 - accuracy: 0.9179 - val_loss: 0.2959 - val_accuracy: 0.9076\n",
      "Epoch 8/70\n",
      "878/878 [==============================] - ETA: 0s - loss: 0.2307 - accuracy: 0.9216\n",
      "Epoch 8: val_accuracy improved from 0.91119 to 0.91696, saving model to best_model2.hdf5\n",
      "878/878 [==============================] - 78s 89ms/step - loss: 0.2307 - accuracy: 0.9216 - val_loss: 0.2454 - val_accuracy: 0.9170\n",
      "Epoch 9/70\n",
      "878/878 [==============================] - ETA: 0s - loss: 0.2260 - accuracy: 0.9227\n",
      "Epoch 9: val_accuracy improved from 0.91696 to 0.92166, saving model to best_model2.hdf5\n",
      "878/878 [==============================] - 78s 89ms/step - loss: 0.2260 - accuracy: 0.9227 - val_loss: 0.2424 - val_accuracy: 0.9217\n",
      "Epoch 10/70\n",
      "878/878 [==============================] - ETA: 0s - loss: 0.2217 - accuracy: 0.9260\n",
      "Epoch 10: val_accuracy improved from 0.92166 to 0.92295, saving model to best_model2.hdf5\n",
      "878/878 [==============================] - 78s 89ms/step - loss: 0.2217 - accuracy: 0.9260 - val_loss: 0.2455 - val_accuracy: 0.9229\n",
      "Epoch 11/70\n",
      "878/878 [==============================] - ETA: 0s - loss: 0.2179 - accuracy: 0.9255\n",
      "Epoch 11: val_accuracy did not improve from 0.92295\n",
      "878/878 [==============================] - 78s 89ms/step - loss: 0.2179 - accuracy: 0.9255 - val_loss: 0.2496 - val_accuracy: 0.9178\n",
      "Epoch 12/70\n",
      "878/878 [==============================] - ETA: 0s - loss: 0.2103 - accuracy: 0.9285\n",
      "Epoch 12: val_accuracy did not improve from 0.92295\n",
      "878/878 [==============================] - 78s 89ms/step - loss: 0.2103 - accuracy: 0.9285 - val_loss: 0.2383 - val_accuracy: 0.9220\n",
      "Epoch 13/70\n",
      "878/878 [==============================] - ETA: 0s - loss: 0.2073 - accuracy: 0.9296\n",
      "Epoch 13: val_accuracy did not improve from 0.92295\n",
      "878/878 [==============================] - 78s 89ms/step - loss: 0.2073 - accuracy: 0.9296 - val_loss: 0.2393 - val_accuracy: 0.9211\n",
      "Epoch 14/70\n",
      "878/878 [==============================] - ETA: 0s - loss: 0.2016 - accuracy: 0.9310\n",
      "Epoch 14: val_accuracy did not improve from 0.92295\n",
      "878/878 [==============================] - 78s 88ms/step - loss: 0.2016 - accuracy: 0.9310 - val_loss: 0.2348 - val_accuracy: 0.9224\n",
      "Epoch 15/70\n",
      "878/878 [==============================] - ETA: 0s - loss: 0.1986 - accuracy: 0.9322\n",
      "Epoch 15: val_accuracy improved from 0.92295 to 0.92380, saving model to best_model2.hdf5\n",
      "878/878 [==============================] - 79s 90ms/step - loss: 0.1986 - accuracy: 0.9322 - val_loss: 0.2371 - val_accuracy: 0.9238\n",
      "Epoch 16/70\n",
      "878/878 [==============================] - ETA: 0s - loss: 0.1961 - accuracy: 0.9330\n",
      "Epoch 16: val_accuracy improved from 0.92380 to 0.92679, saving model to best_model2.hdf5\n",
      "878/878 [==============================] - 277s 315ms/step - loss: 0.1961 - accuracy: 0.9330 - val_loss: 0.2323 - val_accuracy: 0.9268\n",
      "Epoch 17/70\n",
      "878/878 [==============================] - ETA: 0s - loss: 0.1947 - accuracy: 0.9351\n",
      "Epoch 17: val_accuracy did not improve from 0.92679\n",
      "878/878 [==============================] - 81s 92ms/step - loss: 0.1947 - accuracy: 0.9351 - val_loss: 0.2382 - val_accuracy: 0.9268\n",
      "Epoch 18/70\n",
      "878/878 [==============================] - ETA: 0s - loss: 0.1902 - accuracy: 0.9357\n",
      "Epoch 18: val_accuracy did not improve from 0.92679\n",
      "878/878 [==============================] - 79s 90ms/step - loss: 0.1902 - accuracy: 0.9357 - val_loss: 0.2277 - val_accuracy: 0.9264\n",
      "Epoch 19/70\n",
      "878/878 [==============================] - ETA: 0s - loss: 0.1904 - accuracy: 0.9362\n",
      "Epoch 19: val_accuracy improved from 0.92679 to 0.92690, saving model to best_model2.hdf5\n",
      "878/878 [==============================] - 81s 92ms/step - loss: 0.1904 - accuracy: 0.9362 - val_loss: 0.2241 - val_accuracy: 0.9269\n",
      "Epoch 20/70\n",
      "878/878 [==============================] - ETA: 0s - loss: 0.1861 - accuracy: 0.9365\n",
      "Epoch 20: val_accuracy did not improve from 0.92690\n",
      "878/878 [==============================] - 79s 90ms/step - loss: 0.1861 - accuracy: 0.9365 - val_loss: 0.2346 - val_accuracy: 0.9252\n",
      "Epoch 21/70\n",
      "878/878 [==============================] - ETA: 0s - loss: 0.1836 - accuracy: 0.9388\n",
      "Epoch 21: val_accuracy did not improve from 0.92690\n",
      "878/878 [==============================] - 79s 90ms/step - loss: 0.1836 - accuracy: 0.9388 - val_loss: 0.2292 - val_accuracy: 0.9244\n",
      "Epoch 22/70\n",
      "878/878 [==============================] - ETA: 0s - loss: 0.1816 - accuracy: 0.9403\n",
      "Epoch 22: val_accuracy improved from 0.92690 to 0.92861, saving model to best_model2.hdf5\n",
      "878/878 [==============================] - 82s 93ms/step - loss: 0.1816 - accuracy: 0.9403 - val_loss: 0.2218 - val_accuracy: 0.9286\n",
      "Epoch 23/70\n",
      "878/878 [==============================] - ETA: 0s - loss: 0.1812 - accuracy: 0.9394\n",
      "Epoch 23: val_accuracy did not improve from 0.92861\n",
      "878/878 [==============================] - 80s 91ms/step - loss: 0.1812 - accuracy: 0.9394 - val_loss: 0.2430 - val_accuracy: 0.9253\n",
      "Epoch 24/70\n",
      "878/878 [==============================] - ETA: 0s - loss: 0.1795 - accuracy: 0.9388\n",
      "Epoch 24: val_accuracy improved from 0.92861 to 0.92957, saving model to best_model2.hdf5\n",
      "878/878 [==============================] - 80s 91ms/step - loss: 0.1795 - accuracy: 0.9388 - val_loss: 0.2176 - val_accuracy: 0.9296\n",
      "Epoch 25/70\n",
      "878/878 [==============================] - ETA: 0s - loss: 0.1759 - accuracy: 0.9414\n",
      "Epoch 25: val_accuracy improved from 0.92957 to 0.93096, saving model to best_model2.hdf5\n",
      "878/878 [==============================] - 79s 90ms/step - loss: 0.1759 - accuracy: 0.9414 - val_loss: 0.2224 - val_accuracy: 0.9310\n",
      "Epoch 26/70\n",
      "878/878 [==============================] - ETA: 0s - loss: 0.1732 - accuracy: 0.9428\n",
      "Epoch 26: val_accuracy did not improve from 0.93096\n",
      "878/878 [==============================] - 80s 91ms/step - loss: 0.1732 - accuracy: 0.9428 - val_loss: 0.2276 - val_accuracy: 0.9283\n",
      "Epoch 27/70\n",
      "878/878 [==============================] - ETA: 0s - loss: 0.1707 - accuracy: 0.9426\n",
      "Epoch 27: val_accuracy did not improve from 0.93096\n",
      "878/878 [==============================] - 82s 93ms/step - loss: 0.1707 - accuracy: 0.9426 - val_loss: 0.2358 - val_accuracy: 0.9249\n",
      "Epoch 28/70\n",
      "878/878 [==============================] - ETA: 0s - loss: 0.1730 - accuracy: 0.9420\n",
      "Epoch 28: val_accuracy improved from 0.93096 to 0.93224, saving model to best_model2.hdf5\n",
      "878/878 [==============================] - 81s 92ms/step - loss: 0.1730 - accuracy: 0.9420 - val_loss: 0.2159 - val_accuracy: 0.9322\n",
      "Epoch 29/70\n",
      "878/878 [==============================] - ETA: 0s - loss: 0.1688 - accuracy: 0.9435\n",
      "Epoch 29: val_accuracy improved from 0.93224 to 0.93331, saving model to best_model2.hdf5\n",
      "878/878 [==============================] - 82s 94ms/step - loss: 0.1688 - accuracy: 0.9435 - val_loss: 0.2108 - val_accuracy: 0.9333\n",
      "Epoch 30/70\n",
      "878/878 [==============================] - ETA: 0s - loss: 0.1677 - accuracy: 0.9444\n",
      "Epoch 30: val_accuracy did not improve from 0.93331\n",
      "878/878 [==============================] - 83s 95ms/step - loss: 0.1677 - accuracy: 0.9444 - val_loss: 0.2104 - val_accuracy: 0.9313\n",
      "Epoch 31/70\n",
      "878/878 [==============================] - ETA: 0s - loss: 0.1633 - accuracy: 0.9456\n",
      "Epoch 31: val_accuracy did not improve from 0.93331\n",
      "878/878 [==============================] - 83s 95ms/step - loss: 0.1633 - accuracy: 0.9456 - val_loss: 0.2206 - val_accuracy: 0.9266\n",
      "Epoch 32/70\n",
      "878/878 [==============================] - ETA: 0s - loss: 0.1678 - accuracy: 0.9439\n",
      "Epoch 32: val_accuracy improved from 0.93331 to 0.93385, saving model to best_model2.hdf5\n",
      "878/878 [==============================] - 83s 95ms/step - loss: 0.1678 - accuracy: 0.9439 - val_loss: 0.2121 - val_accuracy: 0.9338\n",
      "Epoch 33/70\n",
      "878/878 [==============================] - ETA: 0s - loss: 0.1639 - accuracy: 0.9467\n",
      "Epoch 33: val_accuracy did not improve from 0.93385\n",
      "878/878 [==============================] - 84s 96ms/step - loss: 0.1639 - accuracy: 0.9467 - val_loss: 0.2137 - val_accuracy: 0.9335\n",
      "Epoch 34/70\n",
      "878/878 [==============================] - ETA: 0s - loss: 0.1633 - accuracy: 0.9461\n",
      "Epoch 34: val_accuracy did not improve from 0.93385\n",
      "878/878 [==============================] - 83s 95ms/step - loss: 0.1633 - accuracy: 0.9461 - val_loss: 0.2214 - val_accuracy: 0.9287\n",
      "Epoch 35/70\n",
      "878/878 [==============================] - ETA: 0s - loss: 0.1616 - accuracy: 0.9458\n",
      "Epoch 35: val_accuracy improved from 0.93385 to 0.93427, saving model to best_model2.hdf5\n",
      "878/878 [==============================] - 81s 92ms/step - loss: 0.1616 - accuracy: 0.9458 - val_loss: 0.2127 - val_accuracy: 0.9343\n",
      "Epoch 36/70\n",
      "878/878 [==============================] - ETA: 0s - loss: 0.1598 - accuracy: 0.9481\n",
      "Epoch 36: val_accuracy did not improve from 0.93427\n",
      "878/878 [==============================] - 83s 95ms/step - loss: 0.1598 - accuracy: 0.9481 - val_loss: 0.2199 - val_accuracy: 0.9322\n",
      "Epoch 37/70\n",
      "878/878 [==============================] - ETA: 0s - loss: 0.1572 - accuracy: 0.9485\n",
      "Epoch 37: val_accuracy did not improve from 0.93427\n",
      "878/878 [==============================] - 83s 95ms/step - loss: 0.1572 - accuracy: 0.9485 - val_loss: 0.2091 - val_accuracy: 0.9319\n",
      "Epoch 38/70\n",
      "878/878 [==============================] - ETA: 0s - loss: 0.1553 - accuracy: 0.9481\n",
      "Epoch 38: val_accuracy did not improve from 0.93427\n",
      "878/878 [==============================] - 82s 93ms/step - loss: 0.1553 - accuracy: 0.9481 - val_loss: 0.2148 - val_accuracy: 0.9295\n",
      "Epoch 39/70\n",
      "878/878 [==============================] - ETA: 0s - loss: 0.1552 - accuracy: 0.9490\n",
      "Epoch 39: val_accuracy did not improve from 0.93427\n",
      "878/878 [==============================] - 82s 94ms/step - loss: 0.1552 - accuracy: 0.9490 - val_loss: 0.2133 - val_accuracy: 0.9328\n",
      "Epoch 40/70\n",
      "878/878 [==============================] - ETA: 0s - loss: 0.1560 - accuracy: 0.9481\n",
      "Epoch 40: val_accuracy did not improve from 0.93427\n",
      "878/878 [==============================] - 94s 107ms/step - loss: 0.1560 - accuracy: 0.9481 - val_loss: 0.2087 - val_accuracy: 0.9337\n",
      "Epoch 41/70\n",
      "878/878 [==============================] - ETA: 0s - loss: 0.1540 - accuracy: 0.9482\n",
      "Epoch 41: val_accuracy improved from 0.93427 to 0.93513, saving model to best_model2.hdf5\n",
      "878/878 [==============================] - 95s 108ms/step - loss: 0.1540 - accuracy: 0.9482 - val_loss: 0.2091 - val_accuracy: 0.9351\n",
      "Epoch 42/70\n",
      "878/878 [==============================] - ETA: 0s - loss: 0.1552 - accuracy: 0.9486\n",
      "Epoch 42: val_accuracy did not improve from 0.93513\n",
      "878/878 [==============================] - 94s 107ms/step - loss: 0.1552 - accuracy: 0.9486 - val_loss: 0.2231 - val_accuracy: 0.9349\n",
      "Epoch 43/70\n",
      "878/878 [==============================] - ETA: 0s - loss: 0.1514 - accuracy: 0.9500\n",
      "Epoch 43: val_accuracy did not improve from 0.93513\n",
      "878/878 [==============================] - 90s 103ms/step - loss: 0.1514 - accuracy: 0.9500 - val_loss: 0.2125 - val_accuracy: 0.9330\n",
      "Epoch 44/70\n",
      "878/878 [==============================] - ETA: 0s - loss: 0.1552 - accuracy: 0.9483\n",
      "Epoch 44: val_accuracy did not improve from 0.93513\n",
      "878/878 [==============================] - 87s 99ms/step - loss: 0.1552 - accuracy: 0.9483 - val_loss: 0.2159 - val_accuracy: 0.9301\n",
      "Epoch 45/70\n",
      "878/878 [==============================] - ETA: 0s - loss: 0.1515 - accuracy: 0.9497\n",
      "Epoch 45: val_accuracy did not improve from 0.93513\n",
      "878/878 [==============================] - 83s 94ms/step - loss: 0.1515 - accuracy: 0.9497 - val_loss: 0.2085 - val_accuracy: 0.9351\n",
      "Epoch 46/70\n",
      "878/878 [==============================] - ETA: 0s - loss: 0.1475 - accuracy: 0.9509\n",
      "Epoch 46: val_accuracy improved from 0.93513 to 0.93695, saving model to best_model2.hdf5\n",
      "878/878 [==============================] - 86s 98ms/step - loss: 0.1475 - accuracy: 0.9509 - val_loss: 0.2109 - val_accuracy: 0.9369\n",
      "Epoch 47/70\n",
      "878/878 [==============================] - ETA: 0s - loss: 0.1498 - accuracy: 0.9502\n",
      "Epoch 47: val_accuracy did not improve from 0.93695\n",
      "878/878 [==============================] - 84s 96ms/step - loss: 0.1498 - accuracy: 0.9502 - val_loss: 0.2151 - val_accuracy: 0.9343\n",
      "Epoch 48/70\n",
      "878/878 [==============================] - ETA: 0s - loss: 0.1466 - accuracy: 0.9515\n",
      "Epoch 48: val_accuracy did not improve from 0.93695\n",
      "878/878 [==============================] - 83s 94ms/step - loss: 0.1466 - accuracy: 0.9515 - val_loss: 0.2056 - val_accuracy: 0.9341\n",
      "Epoch 49/70\n",
      "878/878 [==============================] - ETA: 0s - loss: 0.1457 - accuracy: 0.9519\n",
      "Epoch 49: val_accuracy did not improve from 0.93695\n",
      "878/878 [==============================] - 83s 95ms/step - loss: 0.1457 - accuracy: 0.9519 - val_loss: 0.2166 - val_accuracy: 0.9294\n",
      "Epoch 50/70\n",
      "878/878 [==============================] - ETA: 0s - loss: 0.1482 - accuracy: 0.9515\n",
      "Epoch 50: val_accuracy did not improve from 0.93695\n",
      "878/878 [==============================] - 83s 94ms/step - loss: 0.1482 - accuracy: 0.9515 - val_loss: 0.2081 - val_accuracy: 0.9364\n",
      "Epoch 51/70\n",
      "878/878 [==============================] - ETA: 0s - loss: 0.1483 - accuracy: 0.9511\n",
      "Epoch 51: val_accuracy did not improve from 0.93695\n",
      "878/878 [==============================] - 81s 93ms/step - loss: 0.1483 - accuracy: 0.9511 - val_loss: 0.2233 - val_accuracy: 0.9330\n",
      "Epoch 52/70\n",
      "878/878 [==============================] - ETA: 0s - loss: 0.1461 - accuracy: 0.9521\n",
      "Epoch 52: val_accuracy did not improve from 0.93695\n",
      "878/878 [==============================] - 83s 95ms/step - loss: 0.1461 - accuracy: 0.9521 - val_loss: 0.2144 - val_accuracy: 0.9367\n",
      "Epoch 53/70\n",
      "878/878 [==============================] - ETA: 0s - loss: 0.1448 - accuracy: 0.9525\n",
      "Epoch 53: val_accuracy did not improve from 0.93695\n",
      "878/878 [==============================] - 82s 94ms/step - loss: 0.1448 - accuracy: 0.9525 - val_loss: 0.2180 - val_accuracy: 0.9326\n",
      "Epoch 54/70\n",
      "878/878 [==============================] - ETA: 0s - loss: 0.1432 - accuracy: 0.9537\n",
      "Epoch 54: val_accuracy did not improve from 0.93695\n",
      "878/878 [==============================] - 82s 93ms/step - loss: 0.1432 - accuracy: 0.9537 - val_loss: 0.2126 - val_accuracy: 0.9362\n",
      "Epoch 55/70\n",
      "878/878 [==============================] - ETA: 0s - loss: 0.1438 - accuracy: 0.9523\n",
      "Epoch 55: val_accuracy did not improve from 0.93695\n",
      "878/878 [==============================] - 82s 93ms/step - loss: 0.1438 - accuracy: 0.9523 - val_loss: 0.2169 - val_accuracy: 0.9318\n",
      "Epoch 56/70\n",
      "878/878 [==============================] - ETA: 0s - loss: 0.1448 - accuracy: 0.9535\n",
      "Epoch 56: val_accuracy did not improve from 0.93695\n",
      "878/878 [==============================] - 83s 95ms/step - loss: 0.1448 - accuracy: 0.9535 - val_loss: 0.2147 - val_accuracy: 0.9345\n",
      "Epoch 57/70\n",
      "878/878 [==============================] - ETA: 0s - loss: 0.1436 - accuracy: 0.9519\n",
      "Epoch 57: val_accuracy improved from 0.93695 to 0.93801, saving model to best_model2.hdf5\n",
      "878/878 [==============================] - 83s 94ms/step - loss: 0.1436 - accuracy: 0.9519 - val_loss: 0.2077 - val_accuracy: 0.9380\n",
      "Epoch 58/70\n",
      "878/878 [==============================] - ETA: 0s - loss: 0.1422 - accuracy: 0.9538\n",
      "Epoch 58: val_accuracy did not improve from 0.93801\n",
      "878/878 [==============================] - 83s 95ms/step - loss: 0.1422 - accuracy: 0.9538 - val_loss: 0.2073 - val_accuracy: 0.9378\n",
      "Epoch 59/70\n",
      "878/878 [==============================] - ETA: 0s - loss: 0.1431 - accuracy: 0.9511\n",
      "Epoch 59: val_accuracy did not improve from 0.93801\n",
      "878/878 [==============================] - 81s 92ms/step - loss: 0.1431 - accuracy: 0.9511 - val_loss: 0.2142 - val_accuracy: 0.9336\n",
      "Epoch 60/70\n",
      "878/878 [==============================] - ETA: 0s - loss: 0.1440 - accuracy: 0.9525\n",
      "Epoch 60: val_accuracy improved from 0.93801 to 0.93876, saving model to best_model2.hdf5\n",
      "878/878 [==============================] - 85s 97ms/step - loss: 0.1440 - accuracy: 0.9525 - val_loss: 0.2116 - val_accuracy: 0.9388\n",
      "Epoch 61/70\n",
      "878/878 [==============================] - ETA: 0s - loss: 0.1404 - accuracy: 0.9537\n",
      "Epoch 61: val_accuracy did not improve from 0.93876\n",
      "878/878 [==============================] - 82s 93ms/step - loss: 0.1404 - accuracy: 0.9537 - val_loss: 0.2062 - val_accuracy: 0.9372\n",
      "Epoch 62/70\n",
      "878/878 [==============================] - ETA: 0s - loss: 0.1409 - accuracy: 0.9527\n",
      "Epoch 62: val_accuracy did not improve from 0.93876\n",
      "878/878 [==============================] - 81s 92ms/step - loss: 0.1409 - accuracy: 0.9527 - val_loss: 0.2078 - val_accuracy: 0.9374\n",
      "Epoch 63/70\n",
      "878/878 [==============================] - ETA: 0s - loss: 0.1397 - accuracy: 0.9534\n",
      "Epoch 63: val_accuracy did not improve from 0.93876\n",
      "878/878 [==============================] - 83s 95ms/step - loss: 0.1397 - accuracy: 0.9534 - val_loss: 0.2204 - val_accuracy: 0.9338\n",
      "Epoch 64/70\n",
      "878/878 [==============================] - ETA: 0s - loss: 0.1405 - accuracy: 0.9529\n",
      "Epoch 64: val_accuracy did not improve from 0.93876\n",
      "878/878 [==============================] - 83s 94ms/step - loss: 0.1405 - accuracy: 0.9529 - val_loss: 0.2229 - val_accuracy: 0.9350\n",
      "Epoch 65/70\n",
      "878/878 [==============================] - ETA: 0s - loss: 0.1389 - accuracy: 0.9555\n",
      "Epoch 65: val_accuracy did not improve from 0.93876\n",
      "878/878 [==============================] - 87s 99ms/step - loss: 0.1389 - accuracy: 0.9555 - val_loss: 0.2111 - val_accuracy: 0.9378\n",
      "Epoch 66/70\n",
      "878/878 [==============================] - ETA: 0s - loss: 0.1390 - accuracy: 0.9539\n",
      "Epoch 66: val_accuracy did not improve from 0.93876\n",
      "878/878 [==============================] - 82s 93ms/step - loss: 0.1390 - accuracy: 0.9539 - val_loss: 0.2144 - val_accuracy: 0.9367\n",
      "Epoch 67/70\n",
      "878/878 [==============================] - ETA: 0s - loss: 0.1385 - accuracy: 0.9536\n",
      "Epoch 67: val_accuracy did not improve from 0.93876\n",
      "878/878 [==============================] - 85s 96ms/step - loss: 0.1385 - accuracy: 0.9536 - val_loss: 0.2135 - val_accuracy: 0.9356\n",
      "Epoch 68/70\n",
      "878/878 [==============================] - ETA: 0s - loss: 0.1382 - accuracy: 0.9556\n",
      "Epoch 68: val_accuracy improved from 0.93876 to 0.93908, saving model to best_model2.hdf5\n",
      "878/878 [==============================] - 87s 99ms/step - loss: 0.1382 - accuracy: 0.9556 - val_loss: 0.2096 - val_accuracy: 0.9391\n",
      "Epoch 69/70\n",
      "878/878 [==============================] - ETA: 0s - loss: 0.1379 - accuracy: 0.9548\n",
      "Epoch 69: val_accuracy did not improve from 0.93908\n",
      "878/878 [==============================] - 86s 98ms/step - loss: 0.1379 - accuracy: 0.9548 - val_loss: 0.2115 - val_accuracy: 0.9368\n",
      "Epoch 70/70\n",
      "878/878 [==============================] - ETA: 0s - loss: 0.1384 - accuracy: 0.9543\n",
      "Epoch 70: val_accuracy did not improve from 0.93908\n",
      "878/878 [==============================] - 85s 96ms/step - loss: 0.1384 - accuracy: 0.9543 - val_loss: 0.2299 - val_accuracy: 0.9294\n"
     ]
    }
   ],
   "source": [
    "model2 = Sequential()\n",
    "model2.add(layers.Embedding(max_words, 40, input_length=max_len))\n",
    "model2.add(layers.Bidirectional(layers.LSTM(20,dropout=0.6)))\n",
    "model2.add(layers.Dense(3,activation='softmax'))\n",
    "model2.compile(optimizer='rmsprop',loss='categorical_crossentropy', metrics=['accuracy'])\n",
    "#Implementing model checkpoins to save the best metric and do not lose it on training.\n",
    "checkpoint2 = ModelCheckpoint(\"best_model2.hdf5\", monitor='val_accuracy', verbose=1,save_best_only=True, mode='auto', period=1,save_weights_only=False)\n",
    "history = model2.fit(X_train, y_train, epochs=70,validation_data=(X_test, y_test),callbacks=[checkpoint2])\n"
   ]
  },
  {
   "cell_type": "code",
   "execution_count": null,
   "id": "40fefa37-0d7e-410c-806b-7cef2b395935",
   "metadata": {},
   "outputs": [],
   "source": []
  },
  {
   "cell_type": "code",
   "execution_count": 30,
   "id": "a84e8682-2b95-4df7-858f-68b4abc24689",
   "metadata": {},
   "outputs": [],
   "source": [
    "#best model obtained during training\n",
    "\n",
    "best_model = keras.models.load_model(\"best_model2.hdf5\")\n"
   ]
  },
  {
   "cell_type": "code",
   "execution_count": 32,
   "id": "8e491200-ee7a-4086-a4dc-85497c23e2ea",
   "metadata": {},
   "outputs": [
    {
     "name": "stdout",
     "output_type": "stream",
     "text": [
      "293/293 - 6s - loss: 0.2096 - accuracy: 0.9391 - 6s/epoch - 20ms/step\n",
      "Model accuracy:  0.9390830397605896\n"
     ]
    }
   ],
   "source": [
    "test_loss, test_acc = best_model.evaluate(X_test, y_test, verbose=2)\n",
    "print('Model accuracy: ',test_acc)\n"
   ]
  },
  {
   "cell_type": "code",
   "execution_count": 33,
   "id": "8ae3fed0-6a17-41f7-af0d-ee3e184c8b12",
   "metadata": {},
   "outputs": [],
   "source": [
    "predictions = best_model.predict(X_test)\n"
   ]
  },
  {
   "cell_type": "code",
   "execution_count": 34,
   "id": "319fdbce-1c4d-491b-a1c4-8a6a6bb81083",
   "metadata": {},
   "outputs": [],
   "source": [
    "#Confusion matrix\n",
    "from sklearn.metrics import confusion_matrix\n",
    "matrix = confusion_matrix(y_test.argmax(axis=1), np.around(predictions, decimals=0).argmax(axis=1))\n"
   ]
  },
  {
   "cell_type": "code",
   "execution_count": 35,
   "id": "42c4dfdb-637f-4cca-abf0-bea188f9a18c",
   "metadata": {},
   "outputs": [
    {
     "data": {
      "text/plain": [
       "<AxesSubplot:>"
      ]
     },
     "execution_count": 35,
     "metadata": {},
     "output_type": "execute_result"
    },
    {
     "data": {
      "image/png": "[encoded data removed]",
      "text/plain": [
       "<Figure size 1080x1080 with 2 Axes>"
      ]
     },
     "metadata": {
      "needs_background": "light"
     },
     "output_type": "display_data"
    }
   ],
   "source": [
    "import seaborn as sns\n",
    "conf_matrix = pd.DataFrame(matrix, index = ['Neutral','Negative','Positive'],columns = ['Neutral','Negative','Positive'])\n",
    "#Normalizing\n",
    "conf_matrix = conf_matrix.astype('float') / conf_matrix.sum(axis=1)[:, np.newaxis]\n",
    "plt.figure(figsize = (15,15))\n",
    "sns.heatmap(conf_matrix, annot=True, annot_kws={\"size\": 15})"
   ]
  },
  {
   "cell_type": "markdown",
   "id": "b687f99f-03f7-4a19-b6e5-453021cfa603",
   "metadata": {},
   "source": [
    "Let's see how it performs on some test"
   ]
  },
  {
   "cell_type": "code",
   "execution_count": 36,
   "id": "408eaa8f-50e0-4baa-954a-f613fba67823",
   "metadata": {},
   "outputs": [],
   "source": [
    "sentiment = ['Neutral','Negative','Positive']\n"
   ]
  },
  {
   "cell_type": "code",
   "execution_count": 37,
   "id": "df77a376-5eab-46c9-9310-ae7ce176d98a",
   "metadata": {},
   "outputs": [
    {
     "data": {
      "text/plain": [
       "'Negative'"
      ]
     },
     "execution_count": 37,
     "metadata": {},
     "output_type": "execute_result"
    }
   ],
   "source": [
    "sequence = tokenizer.texts_to_sequences(['this experience has been the worst , want a refund'])\n",
    "test = pad_sequences(sequence, maxlen=max_len)\n",
    "sentiment[np.around(best_model.predict(test), decimals=0).argmax(axis=1)[0]]\n"
   ]
  },
  {
   "cell_type": "code",
   "execution_count": 38,
   "id": "90903c5d-c40f-4045-b5e7-a0cee1ffe662",
   "metadata": {},
   "outputs": [
    {
     "data": {
      "text/plain": [
       "'Positive'"
      ]
     },
     "execution_count": 38,
     "metadata": {},
     "output_type": "execute_result"
    }
   ],
   "source": [
    "sequence = tokenizer.texts_to_sequences(['this data science article was preety much good'])\n",
    "test = pad_sequences(sequence, maxlen=max_len)\n",
    "sentiment[np.around(best_model.predict(test), decimals=0).argmax(axis=1)[0]]"
   ]
  },
  {
   "cell_type": "code",
   "execution_count": 39,
   "id": "98411f61-e0e0-45f5-bef0-5a8c78599f1f",
   "metadata": {},
   "outputs": [
    {
     "data": {
      "text/plain": [
       "'Negative'"
      ]
     },
     "execution_count": 39,
     "metadata": {},
     "output_type": "execute_result"
    }
   ],
   "source": [
    "sequence = tokenizer.texts_to_sequences(['I am confused about this experience'])\n",
    "test = pad_sequences(sequence, maxlen=max_len)\n",
    "sentiment[np.around(best_model.predict(test), decimals=0).argmax(axis=1)[0]]"
   ]
  },
  {
   "cell_type": "code",
   "execution_count": null,
   "id": "d2521069-d8e6-4696-a0b6-276b8d5936d4",
   "metadata": {},
   "outputs": [],
   "source": []
  }
 ],
 "metadata": {
  "kernelspec": {
   "display_name": "Python 3 (ipykernel)",
   "language": "python",
   "name": "python3"
  },
  "language_info": {
   "codemirror_mode": {
    "name": "ipython",
    "version": 3
   },
   "file_extension": ".py",
   "mimetype": "text/x-python",
   "name": "python",
   "nbconvert_exporter": "python",
   "pygments_lexer": "ipython3",
   "version": "3.9.5"
  }
 },
 "nbformat": 4,
 "nbformat_minor": 5
}
